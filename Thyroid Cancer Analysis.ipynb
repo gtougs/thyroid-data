{
 "cells": [
  {
   "cell_type": "code",
   "execution_count": 10,
   "id": "b6ba2bcc-ac92-4a32-a30a-9d73df54e907",
   "metadata": {},
   "outputs": [],
   "source": [
    "import pandas as pd\n",
    "import numpy as np\n",
    "import matplotlib as mpl"
   ]
  },
  {
   "cell_type": "code",
   "execution_count": null,
   "id": "7938abf7-c862-461d-8088-49aaa9abf10b",
   "metadata": {},
   "outputs": [],
   "source": [
    "df = pd.read_csv("
   ]
  },
  {
   "cell_type": "code",
   "execution_count": null,
   "id": "e04d475c-91eb-41ac-a320-39eb61d66f1c",
   "metadata": {},
   "outputs": [],
   "source": []
  },
  {
   "cell_type": "code",
   "execution_count": null,
   "id": "de003e5b-6fca-473a-9ae1-110aa0462d51",
   "metadata": {},
   "outputs": [],
   "source": []
  }
 ],
 "metadata": {
  "kernelspec": {
   "display_name": "Python 3 (ipykernel)",
   "language": "python",
   "name": "python3"
  },
  "language_info": {
   "codemirror_mode": {
    "name": "ipython",
    "version": 3
   },
   "file_extension": ".py",
   "mimetype": "text/x-python",
   "name": "python",
   "nbconvert_exporter": "python",
   "pygments_lexer": "ipython3",
   "version": "3.12.4"
  }
 },
 "nbformat": 4,
 "nbformat_minor": 5
}
